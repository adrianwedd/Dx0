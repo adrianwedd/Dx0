{
 "cells": [
  {
   "cell_type": "markdown",
   "metadata": {},
   "source": "# Evaluation Example\nThis notebook demonstrates how to run `batch_evaluate`, aggregate with `WeightedVoter`, and visualize accuracy vs. cost."
  },
  {
   "cell_type": "markdown",
   "metadata": {},
   "source": "## Batch evaluation"
  },
  {
   "cell_type": "code",
   "execution_count": null,
   "metadata": {},
   "outputs": [],
   "source": "from sdb.evaluation import batch_evaluate\n\n\ndef run_case(cid: str) -> dict[str, str]:\n    return {\"id\": cid, \"diagnosis\": \"flu\"}\n\ncase_ids = [\"1\", \"2\", \"3\"]\nresults = batch_evaluate(case_ids, run_case, concurrency=2)\nresults"
  },
  {
   "cell_type": "markdown",
   "metadata": {},
   "source": "## Weighted voting"
  },
  {
   "cell_type": "code",
   "execution_count": null,
   "metadata": {},
   "outputs": [],
   "source": "from sdb.ensemble import DiagnosisResult, WeightedVoter\n\nresults = [\n    DiagnosisResult(\"flu\", 0.6, run_id=\"A\"),\n    DiagnosisResult(\"cold\", 0.9, run_id=\"B\"),\n    DiagnosisResult(\"flu\", 0.4, run_id=\"C\"),\n]\n\nweights = {\"A\": 1.5, \"B\": 1.0, \"C\": 0.5}\n\nvoter = WeightedVoter()\nprint(voter.vote(results, weights=weights))"
  },
  {
   "cell_type": "markdown",
   "metadata": {},
   "source": "## Accuracy vs. cost"
  },
  {
   "cell_type": "code",
   "execution_count": null,
   "metadata": {},
   "outputs": [],
   "source": "import csv\nimport matplotlib.pyplot as plt\n\ncosts, accs = [], []\nwith open(\"../example_results.csv\") as f:\n    for row in csv.DictReader(f):\n        costs.append(float(row[\"cost\"]))\n        accs.append(float(row[\"accuracy\"]))\n\nplt.plot(costs, accs, marker=\"o\")\nplt.xlabel(\"Cost\")\nplt.ylabel(\"Accuracy\")\nplt.title(\"Accuracy vs. Cost\")\nplt.grid(True)\nplt.show()"
  }
 ],
 "metadata": {
  "kernelspec": {
   "display_name": "Python 3",
   "language": "python",
   "name": "python3"
  }
 },
 "nbformat": 4,
 "nbformat_minor": 5
}
